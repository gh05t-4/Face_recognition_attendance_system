{
 "cells": [
  {
   "cell_type": "code",
   "execution_count": 18,
   "metadata": {},
   "outputs": [],
   "source": [
    "import face_recognition\n",
    "import cv2\n",
    "from openpyxl import Workbook\n",
    "import datetime\n",
    "\n",
    "import os\n"
   ]
  },
  {
   "cell_type": "code",
   "execution_count": 19,
   "metadata": {},
   "outputs": [],
   "source": [
    "\n",
    "video_capture = cv2.VideoCapture(0)\n",
    "    \n",
    "    \n",
    "# Create a woorksheet\n",
    "book=Workbook()\n",
    "sheet=book.active"
   ]
  },
  {
   "cell_type": "code",
   "execution_count": 20,
   "metadata": {},
   "outputs": [],
   "source": [
    "\n",
    "image_1 = face_recognition.load_image_file(\"dataset/bill_gates.jpg\")\n",
    "image_1_face_encoding = face_recognition.face_encodings(image_1)[0]\n",
    "    \n",
    "image_5 = face_recognition.load_image_file(\"dataset/donald_trump.jpg\")\n",
    "image_5_face_encoding = face_recognition.face_encodings(image_5)[0]\n",
    "    \n",
    "image_7 = face_recognition.load_image_file(\"dataset/jeff_bezos.jpg\")\n",
    "image_7_face_encoding = face_recognition.face_encodings(image_7)[0]\n",
    "    \n",
    "image_3 = face_recognition.load_image_file(\"dataset/sucheth.jpg\")\n",
    "image_3_face_encoding = face_recognition.face_encodings(image_3)[0]\n",
    "    \n",
    "image_4 = face_recognition.load_image_file(\"dataset/hemanth.jpg\")\n",
    "image_4_face_encoding = face_recognition.face_encodings(image_4)[0]"
   ]
  },
  {
   "cell_type": "code",
   "execution_count": 21,
   "metadata": {},
   "outputs": [],
   "source": [
    "known_face_encodings = [\n",
    "        \n",
    "        image_1_face_encoding,\n",
    "        image_5_face_encoding,\n",
    "        image_7_face_encoding,\n",
    "        image_3_face_encoding,\n",
    "        image_4_face_encoding\n",
    "        \n",
    "    ]"
   ]
  },
  {
   "cell_type": "code",
   "execution_count": 22,
   "metadata": {},
   "outputs": [],
   "source": [
    "known_face_names = {\n",
    "        \n",
    "        1:\"BILL\",\n",
    "        5:\"TRUMP\",\n",
    "        7:\"JEFF\",\n",
    "        3:\"SUCHETH\",\n",
    "        4:\"HEMANTH\"\n",
    "       \n",
    "}\n"
   ]
  },
  {
   "cell_type": "code",
   "execution_count": 23,
   "metadata": {},
   "outputs": [],
   "source": [
    "face_locations = []\n",
    "face_encodings = []\n",
    "face_names = []\n",
    "process_this_frame = True"
   ]
  },
  {
   "cell_type": "code",
   "execution_count": 24,
   "metadata": {},
   "outputs": [],
   "source": [
    "now = datetime.datetime.now()\n",
    "today=now.day\n",
    "month=now.month"
   ]
  },
  {
   "cell_type": "code",
   "execution_count": 25,
   "metadata": {},
   "outputs": [],
   "source": [
    "while True:\n",
    " # Grab a single frame of video\n",
    "    ret, frame = video_capture.read()\n",
    "    \n",
    "    # Resize frame of video to 1/4 size for faster face recognition processing\n",
    "    #small_frame = cv2.resize(frame, (0, 0), fx=0.25, fy=0.25)\n",
    "    try:\n",
    "        small_frame=cv2.resize(frame,(0,0),fx=0.25,fy=0.25)\n",
    "        \n",
    "        #small_frame=cv2.imread(dataset, cv2.IMREAD_GRAYSCALE)\n",
    "        \n",
    "\n",
    "    except Exception as e:\n",
    "        print(str(e))\n",
    "    # Convert the image from BGR color (which OpenCV uses) to RGB color (which face_recognition uses)\n",
    "    rgb_small_frame = small_frame[:, :, ::-1]\n",
    "    \n",
    "    # Only process every other frame of video to save time\n",
    "    if process_this_frame:\n",
    "        # Find all the faces and face encodings in the current frame of video\n",
    "        face_locations = face_recognition.face_locations(rgb_small_frame)\n",
    "        face_encodings = face_recognition.face_encodings(rgb_small_frame, face_locations)\n",
    "    \n",
    "    face_names = []\n",
    "    for face_encoding in face_encodings:\n",
    "        # See if the face is a match for the known face(s)\n",
    "        matches = face_recognition.compare_faces(known_face_encodings, face_encoding)\n",
    "        name = \"Unknown\"\n",
    "    \n",
    "         # If a match was found in known_face_encodings, just use the first one.\n",
    "        if True in matches:\n",
    "            first_match_index = matches.index(True)\n",
    "            x=list(known_face_names.keys())\n",
    "            names=known_face_names[first_match_index]\n",
    "            name = x.index(first_match_index)\n",
    "            \n",
    "            # Assign attendance\n",
    "            if int(name) in range(1,61):\n",
    "                sheet.cell(1,column=1).value=\"Name\"\n",
    "                sheet.cell(row=int(name),column=3).value=datetime.datetime.now().time()\n",
    "                sheet.cell(row=int(name), column=1).value = names\n",
    "                sheet.cell(row=1,column=2).value=\"Attendance\"\n",
    "                sheet.cell(row=int(name),column=2).value=\"Present\"\n",
    "            else:\n",
    "                pass\n",
    "    \n",
    "        face_names.append(name)\n",
    "    \n",
    "    process_this_frame = not process_this_frame\n",
    "    \n",
    "    \n",
    "    # Display the results\n",
    "    for (top, right, bottom, left), name in zip(face_locations, face_names):\n",
    "           # Scale back up face locations since the frame we detected in was scaled to 1/4 size\n",
    "           top *= 4\n",
    "           right *= 4\n",
    "           bottom *= 4\n",
    "           left *= 4\n",
    "           cv2.rectangle(frame, (left, top), (right, bottom), (0, 0, 255), 2)\n",
    "           cv2.rectangle(frame, (left, bottom - 35), (right, bottom), (0, 0, 255), cv2.FILLED)\n",
    "           font = cv2.FONT_HERSHEY_DUPLEX\n",
    "           cv2.putText(frame,names, (left + 6, bottom - 6), font, 1.0, (255, 255, 255), 1)\n",
    "    \n",
    "           # Draw a label with a name below the face\n",
    "    \n",
    "    # Display the resulting image\n",
    "    cv2.imshow('Video',frame)\n",
    "        \n",
    "    # Save Woorksheet as present month\n",
    "    book.save(str(month+1)+'.xlsx')\n",
    "    \n",
    "    # Hit 'q' on the keyboard to quit!\n",
    "    if cv2.waitKey(1) & 0xFF == ord('q'):\n",
    "        break\n",
    "    \n",
    "# Release handle to the webcam\n",
    "video_capture.release()\n",
    "cv2.destroyAllWindows()"
   ]
  },
  {
   "cell_type": "code",
   "execution_count": 33,
   "metadata": {},
   "outputs": [
    {
     "ename": "NameError",
     "evalue": "name 'leng' is not defined",
     "output_type": "error",
     "traceback": [
      "\u001b[1;31m---------------------------------------------------------------------------\u001b[0m",
      "\u001b[1;31mNameError\u001b[0m                                 Traceback (most recent call last)",
      "\u001b[1;32m<ipython-input-33-dd58b349bd11>\u001b[0m in \u001b[0;36m<module>\u001b[1;34m\u001b[0m\n\u001b[1;32m----> 1\u001b[1;33m \u001b[0mprint\u001b[0m\u001b[1;33m(\u001b[0m\u001b[0mleng\u001b[0m\u001b[1;33m)\u001b[0m\u001b[1;33m\u001b[0m\u001b[1;33m\u001b[0m\u001b[0m\n\u001b[0m",
      "\u001b[1;31mNameError\u001b[0m: name 'leng' is not defined"
     ]
    }
   ],
   "source": []
  },
  {
   "cell_type": "code",
   "execution_count": 8,
   "metadata": {},
   "outputs": [],
   "source": []
  },
  {
   "cell_type": "code",
   "execution_count": 9,
   "metadata": {},
   "outputs": [],
   "source": []
  },
  {
   "cell_type": "code",
   "execution_count": 10,
   "metadata": {},
   "outputs": [
    {
     "name": "stdout",
     "output_type": "stream",
     "text": [
      "OpenCV(4.2.0) C:\\projects\\opencv-python\\opencv\\modules\\imgproc\\src\\resize.cpp:4045: error: (-215:Assertion failed) !ssize.empty() in function 'cv::resize'\n",
      "\n"
     ]
    },
    {
     "ename": "NameError",
     "evalue": "name 'small_frame' is not defined",
     "output_type": "error",
     "traceback": [
      "\u001b[1;31m---------------------------------------------------------------------------\u001b[0m",
      "\u001b[1;31mNameError\u001b[0m                                 Traceback (most recent call last)",
      "\u001b[1;32m<ipython-input-10-dbbae74149c3>\u001b[0m in \u001b[0;36m<module>\u001b[1;34m\u001b[0m\n\u001b[0;32m     14\u001b[0m         \u001b[0mprint\u001b[0m\u001b[1;33m(\u001b[0m\u001b[0mstr\u001b[0m\u001b[1;33m(\u001b[0m\u001b[0me\u001b[0m\u001b[1;33m)\u001b[0m\u001b[1;33m)\u001b[0m\u001b[1;33m\u001b[0m\u001b[1;33m\u001b[0m\u001b[0m\n\u001b[0;32m     15\u001b[0m     \u001b[1;31m# Convert the image from BGR color (which OpenCV uses) to RGB color (which face_recognition uses)\u001b[0m\u001b[1;33m\u001b[0m\u001b[1;33m\u001b[0m\u001b[1;33m\u001b[0m\u001b[0m\n\u001b[1;32m---> 16\u001b[1;33m     \u001b[0mrgb_small_frame\u001b[0m \u001b[1;33m=\u001b[0m \u001b[0msmall_frame\u001b[0m\u001b[1;33m[\u001b[0m\u001b[1;33m:\u001b[0m\u001b[1;33m,\u001b[0m \u001b[1;33m:\u001b[0m\u001b[1;33m,\u001b[0m \u001b[1;33m:\u001b[0m\u001b[1;33m:\u001b[0m\u001b[1;33m-\u001b[0m\u001b[1;36m1\u001b[0m\u001b[1;33m]\u001b[0m\u001b[1;33m\u001b[0m\u001b[1;33m\u001b[0m\u001b[0m\n\u001b[0m\u001b[0;32m     17\u001b[0m \u001b[1;33m\u001b[0m\u001b[0m\n\u001b[0;32m     18\u001b[0m     \u001b[1;31m# Only process every other frame of video to save time\u001b[0m\u001b[1;33m\u001b[0m\u001b[1;33m\u001b[0m\u001b[1;33m\u001b[0m\u001b[0m\n",
      "\u001b[1;31mNameError\u001b[0m: name 'small_frame' is not defined"
     ]
    }
   ],
   "source": []
  },
  {
   "cell_type": "code",
   "execution_count": 28,
   "metadata": {},
   "outputs": [
    {
     "name": "stdout",
     "output_type": "stream",
     "text": [
      "5\n"
     ]
    }
   ],
   "source": [
    "print()"
   ]
  },
  {
   "cell_type": "code",
   "execution_count": null,
   "metadata": {},
   "outputs": [],
   "source": []
  }
 ],
 "metadata": {
  "kernelspec": {
   "display_name": "Python 3",
   "language": "python",
   "name": "python3"
  },
  "language_info": {
   "codemirror_mode": {
    "name": "ipython",
    "version": 3
   },
   "file_extension": ".py",
   "mimetype": "text/x-python",
   "name": "python",
   "nbconvert_exporter": "python",
   "pygments_lexer": "ipython3",
   "version": "3.7.6"
  }
 },
 "nbformat": 4,
 "nbformat_minor": 4
}
